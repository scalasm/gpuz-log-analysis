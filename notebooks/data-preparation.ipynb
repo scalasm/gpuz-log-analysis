{
 "metadata": {
  "language_info": {
   "codemirror_mode": {
    "name": "ipython",
    "version": 3
   },
   "file_extension": ".py",
   "mimetype": "text/x-python",
   "name": "python",
   "nbconvert_exporter": "python",
   "pygments_lexer": "ipython3",
   "version": "3.8.5-final"
  },
  "orig_nbformat": 2,
  "kernelspec": {
   "name": "python3",
   "display_name": "Python 3",
   "language": "python"
  }
 },
 "nbformat": 4,
 "nbformat_minor": 2,
 "cells": [
  {
   "cell_type": "code",
   "execution_count": 1,
   "metadata": {},
   "outputs": [
    {
     "output_type": "stream",
     "name": "stderr",
     "text": [
      "2021-02-10T22:23:44+0000 DataHelper working on root dir \"..\" with\n",
      "\t - Dataset dir     = ../datasets\n",
      "\t - Work dataset dir= ../datasets_work\n",
      "Current Python Path= ['../src', '/home/mario/src/data-science/gpuz-log-analysis/notebooks', '/home/mario/.vscode-server/extensions/ms-toolsai.jupyter-2020.12.414227025/pythonFiles/vscode_datascience_helpers/../.does-not-exist', '/mnt/d/apps/vscode/src', '/home/mario/.vscode-server/extensions/ms-toolsai.jupyter-2020.12.414227025/pythonFiles', '/home/mario/.vscode-server/extensions/ms-toolsai.jupyter-2020.12.414227025/pythonFiles/lib/python', '/usr/lib/python38.zip', '/usr/lib/python3.8', '/usr/lib/python3.8/lib-dynload', '', '/home/mario/src/data-science/gpuz-log-analysis/venv/lib/python3.8/site-packages', '/home/mario/src/data-science/gpuz-log-analysis/venv/lib/python3.8/site-packages/IPython/extensions', '/home/mario/.ipython']\n",
      "date\n",
      "gpu_clock\n",
      "memory_clock\n",
      "gpu_temperature\n",
      "fan_speed\n",
      "fan_speed_2\n",
      "memory_used\n",
      "gpu_load\n",
      "memory_controller_load\n",
      "video_engine_load\n",
      "bus_interface_load\n",
      "board_power_draw\n",
      "gpu_chip_power_draw\n",
      "mvddc_power_draw\n",
      "pcie_slot_power\n",
      "pcie_slot_voltage\n",
      "8_pin_1_power\n",
      "8_pin_1_voltage\n",
      "power_consumption\n",
      "perfcap_reason\n",
      "gpu_voltage\n",
      "cpu_temperature\n",
      "system_memory_used\n"
     ]
    }
   ],
   "source": [
    "import sys\n",
    "sys.path.insert(0, \"../src\") # Trick for using local Python code in Jupyter Notebook, see \n",
    "\n",
    "import os\n",
    "from gpuz.data_helper import DataHelper\n",
    "\n",
    "data_helper = DataHelper( \"..\" )\n",
    "\n",
    "df = data_helper.load_gpuz_dataset( \"clean_gpuz_sensor_log.csv\" )"
   ]
  },
  {
   "source": [
    "# Taking a look at the data"
   ],
   "cell_type": "markdown",
   "metadata": {}
  },
  {
   "cell_type": "code",
   "execution_count": 2,
   "metadata": {},
   "outputs": [
    {
     "output_type": "execute_result",
     "data": {
      "text/plain": [
       "                 date  gpu_clock  memory_clock  gpu_temperature  fan_speed  \\\n",
       "0 2021-01-31 18:55:13      300.0         101.3             30.0       45.0   \n",
       "1 2021-01-31 18:55:14      300.0         101.3             30.0       45.0   \n",
       "2 2021-01-31 18:55:15      300.0         101.3             30.0       45.0   \n",
       "3 2021-01-31 18:55:16      300.0         101.3             30.0       45.0   \n",
       "4 2021-01-31 18:55:17      300.0         101.3             30.0       45.0   \n",
       "\n",
       "   fan_speed_2  memory_used  gpu_load  memory_controller_load  \\\n",
       "0       1497.0        471.0       1.0                     6.0   \n",
       "1       1501.0        463.0       7.0                     6.0   \n",
       "2       1501.0        463.0       7.0                     7.0   \n",
       "3       1501.0        463.0       1.0                     5.0   \n",
       "4       1494.0        465.0       3.0                     6.0   \n",
       "\n",
       "   video_engine_load  ...  mvddc_power_draw  pcie_slot_power  \\\n",
       "0                0.0  ...               4.6              6.3   \n",
       "1                0.0  ...               4.4              3.8   \n",
       "2                0.0  ...               4.3              3.6   \n",
       "3                0.0  ...               4.4              3.9   \n",
       "4                0.0  ...               4.4              3.9   \n",
       "\n",
       "   pcie_slot_voltage  8_pin_1_power  8_pin_1_voltage  power_consumption  \\\n",
       "0               12.3            9.3             12.4                9.0   \n",
       "1               12.3            7.0             12.4                6.2   \n",
       "2               12.3            6.7             12.4                5.9   \n",
       "3               12.3            7.1             12.4                6.3   \n",
       "4               12.3            6.8             12.4                6.1   \n",
       "\n",
       "   perfcap_reason  gpu_voltage  cpu_temperature  system_memory_used  \n",
       "0              16        0.725             62.8                3979  \n",
       "1              16        0.725             61.4                3997  \n",
       "2              16        0.725             59.8                3995  \n",
       "3              16        0.725             58.3                3998  \n",
       "4              16        0.725             56.6                3980  \n",
       "\n",
       "[5 rows x 23 columns]"
      ],
      "text/html": "<div>\n<style scoped>\n    .dataframe tbody tr th:only-of-type {\n        vertical-align: middle;\n    }\n\n    .dataframe tbody tr th {\n        vertical-align: top;\n    }\n\n    .dataframe thead th {\n        text-align: right;\n    }\n</style>\n<table border=\"1\" class=\"dataframe\">\n  <thead>\n    <tr style=\"text-align: right;\">\n      <th></th>\n      <th>date</th>\n      <th>gpu_clock</th>\n      <th>memory_clock</th>\n      <th>gpu_temperature</th>\n      <th>fan_speed</th>\n      <th>fan_speed_2</th>\n      <th>memory_used</th>\n      <th>gpu_load</th>\n      <th>memory_controller_load</th>\n      <th>video_engine_load</th>\n      <th>...</th>\n      <th>mvddc_power_draw</th>\n      <th>pcie_slot_power</th>\n      <th>pcie_slot_voltage</th>\n      <th>8_pin_1_power</th>\n      <th>8_pin_1_voltage</th>\n      <th>power_consumption</th>\n      <th>perfcap_reason</th>\n      <th>gpu_voltage</th>\n      <th>cpu_temperature</th>\n      <th>system_memory_used</th>\n    </tr>\n  </thead>\n  <tbody>\n    <tr>\n      <th>0</th>\n      <td>2021-01-31 18:55:13</td>\n      <td>300.0</td>\n      <td>101.3</td>\n      <td>30.0</td>\n      <td>45.0</td>\n      <td>1497.0</td>\n      <td>471.0</td>\n      <td>1.0</td>\n      <td>6.0</td>\n      <td>0.0</td>\n      <td>...</td>\n      <td>4.6</td>\n      <td>6.3</td>\n      <td>12.3</td>\n      <td>9.3</td>\n      <td>12.4</td>\n      <td>9.0</td>\n      <td>16</td>\n      <td>0.725</td>\n      <td>62.8</td>\n      <td>3979</td>\n    </tr>\n    <tr>\n      <th>1</th>\n      <td>2021-01-31 18:55:14</td>\n      <td>300.0</td>\n      <td>101.3</td>\n      <td>30.0</td>\n      <td>45.0</td>\n      <td>1501.0</td>\n      <td>463.0</td>\n      <td>7.0</td>\n      <td>6.0</td>\n      <td>0.0</td>\n      <td>...</td>\n      <td>4.4</td>\n      <td>3.8</td>\n      <td>12.3</td>\n      <td>7.0</td>\n      <td>12.4</td>\n      <td>6.2</td>\n      <td>16</td>\n      <td>0.725</td>\n      <td>61.4</td>\n      <td>3997</td>\n    </tr>\n    <tr>\n      <th>2</th>\n      <td>2021-01-31 18:55:15</td>\n      <td>300.0</td>\n      <td>101.3</td>\n      <td>30.0</td>\n      <td>45.0</td>\n      <td>1501.0</td>\n      <td>463.0</td>\n      <td>7.0</td>\n      <td>7.0</td>\n      <td>0.0</td>\n      <td>...</td>\n      <td>4.3</td>\n      <td>3.6</td>\n      <td>12.3</td>\n      <td>6.7</td>\n      <td>12.4</td>\n      <td>5.9</td>\n      <td>16</td>\n      <td>0.725</td>\n      <td>59.8</td>\n      <td>3995</td>\n    </tr>\n    <tr>\n      <th>3</th>\n      <td>2021-01-31 18:55:16</td>\n      <td>300.0</td>\n      <td>101.3</td>\n      <td>30.0</td>\n      <td>45.0</td>\n      <td>1501.0</td>\n      <td>463.0</td>\n      <td>1.0</td>\n      <td>5.0</td>\n      <td>0.0</td>\n      <td>...</td>\n      <td>4.4</td>\n      <td>3.9</td>\n      <td>12.3</td>\n      <td>7.1</td>\n      <td>12.4</td>\n      <td>6.3</td>\n      <td>16</td>\n      <td>0.725</td>\n      <td>58.3</td>\n      <td>3998</td>\n    </tr>\n    <tr>\n      <th>4</th>\n      <td>2021-01-31 18:55:17</td>\n      <td>300.0</td>\n      <td>101.3</td>\n      <td>30.0</td>\n      <td>45.0</td>\n      <td>1494.0</td>\n      <td>465.0</td>\n      <td>3.0</td>\n      <td>6.0</td>\n      <td>0.0</td>\n      <td>...</td>\n      <td>4.4</td>\n      <td>3.9</td>\n      <td>12.3</td>\n      <td>6.8</td>\n      <td>12.4</td>\n      <td>6.1</td>\n      <td>16</td>\n      <td>0.725</td>\n      <td>56.6</td>\n      <td>3980</td>\n    </tr>\n  </tbody>\n</table>\n<p>5 rows × 23 columns</p>\n</div>"
     },
     "metadata": {},
     "execution_count": 2
    }
   ],
   "source": [
    "df.head()"
   ]
  },
  {
   "cell_type": "code",
   "execution_count": 3,
   "metadata": {},
   "outputs": [
    {
     "output_type": "execute_result",
     "data": {
      "text/plain": [
       "date                      datetime64[ns]\n",
       "gpu_clock                        float64\n",
       "memory_clock                     float64\n",
       "gpu_temperature                  float64\n",
       "fan_speed                        float64\n",
       "fan_speed_2                      float64\n",
       "memory_used                      float64\n",
       "gpu_load                         float64\n",
       "memory_controller_load           float64\n",
       "video_engine_load                float64\n",
       "bus_interface_load               float64\n",
       "board_power_draw                 float64\n",
       "gpu_chip_power_draw              float64\n",
       "mvddc_power_draw                 float64\n",
       "pcie_slot_power                  float64\n",
       "pcie_slot_voltage                float64\n",
       "8_pin_1_power                    float64\n",
       "8_pin_1_voltage                  float64\n",
       "power_consumption                float64\n",
       "perfcap_reason                     int64\n",
       "gpu_voltage                      float64\n",
       "cpu_temperature                  float64\n",
       "system_memory_used                 int64\n",
       "dtype: object"
      ]
     },
     "metadata": {},
     "execution_count": 3
    }
   ],
   "source": [
    "df.dtypes"
   ]
  },
  {
   "cell_type": "code",
   "execution_count": null,
   "metadata": {},
   "outputs": [],
   "source": []
  }
 ]
}