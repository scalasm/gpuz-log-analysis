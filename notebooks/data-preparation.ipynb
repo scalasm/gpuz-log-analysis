{
 "metadata": {
  "language_info": {
   "codemirror_mode": {
    "name": "ipython",
    "version": 3
   },
   "file_extension": ".py",
   "mimetype": "text/x-python",
   "name": "python",
   "nbconvert_exporter": "python",
   "pygments_lexer": "ipython3",
   "version": "3.8.5-final"
  },
  "orig_nbformat": 2,
  "kernelspec": {
   "name": "python3",
   "display_name": "Python 3.8.5 64-bit ('datascience_env')",
   "metadata": {
    "interpreter": {
     "hash": "9347bddee8004ce048eeb00b5b163b92cd504b9717e9d4b2af1e972c0dc3a51c"
    }
   }
  }
 },
 "nbformat": 4,
 "nbformat_minor": 2,
 "cells": [
  {
   "cell_type": "code",
   "execution_count": 1,
   "metadata": {},
   "outputs": [],
   "source": [
    "print(\"I'm alive!\")"
   ]
  }
 ]
}